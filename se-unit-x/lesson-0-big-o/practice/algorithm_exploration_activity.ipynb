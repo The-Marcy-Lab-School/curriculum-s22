{
 "cells": [
  {
   "cell_type": "markdown",
   "metadata": {},
   "source": [
    "# Algorithm Exploration Activity\n",
    "**Instructions**\n",
    "\n",
    "The purpose of this activity is to see how each of these algorithms _scales_ as the size of input grows. \n",
    "\n",
    "There are four separate algorithms implemented below:\n",
    "    1. `append_random`\n",
    "    2. `loop`\n",
    "    3. `binary_search`\n",
    "    4. `nested_loop`\n",
    "\n",
    "You will invoke each function multiple times with an increasingly large lists. You will **write down the number of operations that take place with each invocation** in the last column of each table. I have given you a little help by inserting `print` functions inside of each function so that all you have to do is count the number of times, each function prints a value.\n",
    "\n",
    "Finally, after you have observed the number of operations for each function call, you will plot them on [**this graph**](https://www.desmos.com/calculator/rlh5wglbky) to better visualize how they scale."
   ]
  },
  {
   "cell_type": "markdown",
   "metadata": {},
   "source": [
    "## 1. Append Random"
   ]
  },
  {
   "cell_type": "code",
   "execution_count": 38,
   "metadata": {},
   "outputs": [],
   "source": [
    "import random\n",
    "\n",
    "def append_random(lst):\n",
    "    rand = random.randint(0,100)\n",
    "    lst.append(rand)\n",
    "    print(f'New List is {lst}')"
   ]
  },
  {
   "cell_type": "markdown",
   "metadata": {},
   "source": [
    "|Append| Length of Input | # of Operations\n",
    "    :--- | --- | ---\n",
    "    |`append_random([])` | 0 | 😴 |\n",
    "    |`append_random(['a'])` | 1 | 🤔 |\n",
    "    |`append_random(['a', 'b'])` | 2 | 🤔 |\n",
    "    |`append_random(['a', 'b', 'c', 'd'])` | 4 | 🤔|\n",
    "    |`append_random(['a', 'b', 'c', 'd', 'e', 'f', 'g', 'h'])` | 8 |  🧐 |\n",
    "    |`append_random(['a', 'b', 'c', 'd', 'e', 'f', 'g', 'h', 'i', 'j', 'k', 'l', 'm', 'n', 'o', 'p'])` | 16 |  😕 |\n",
    "    |`append_random(['a', 'b', 'c', 'd', 'e', 'f', 'g', 'h', 'i', 'j', 'k', 'l', 'm', 'n', 'o', 'p', 'q', 'r', 's', 't', 'u', 'v', 'w', 'x', 'y', 'z','za', 'zb', 'zc', 'zd', 'ze', 'zf'])` | 32 |  🤯 |"
   ]
  },
  {
   "cell_type": "markdown",
   "metadata": {},
   "source": [
    "## 2. Loop"
   ]
  },
  {
   "cell_type": "code",
   "execution_count": 42,
   "metadata": {},
   "outputs": [],
   "source": [
    "def loop(arr):\n",
    "    for el in arr:\n",
    "        print(el)"
   ]
  },
  {
   "cell_type": "markdown",
   "metadata": {},
   "source": [
    "|Loop| Length of Input | # of Operations\n",
    "    :--- | --- | ---\n",
    "    |`loop(['a'])` | 1 | 🤔 |\n",
    "    |`loop(['a', 'b'])` | 2 | 🤔 |\n",
    "    |`loop(['a', 'b', 'c', 'd'])` | 4 | 🤔|\n",
    "    |`loop(['a', 'b', 'c', 'd', 'e', 'f', 'g', 'h'])` | 8 |  🧐 |\n",
    "    |`loop(['a', 'b', 'c', 'd', 'e', 'f', 'g', 'h', 'i', 'j', 'k', 'l', 'm', 'n', 'o', 'p'])` | 16 |  😕 |\n",
    "    |`loop(['a', 'b', 'c', 'd', 'e', 'f', 'g', 'h', 'i', 'j', 'k', 'l', 'm', 'n', 'o', 'p', 'q', 'r', 's', 't', 'u', 'v', 'w', 'x', 'y', 'z','za', 'zb', 'zc', 'zd', 'ze', 'zf'])` | 32 |  🤯 |"
   ]
  },
  {
   "cell_type": "markdown",
   "metadata": {},
   "source": [
    "## 3. Binary Search"
   ]
  },
  {
   "cell_type": "code",
   "execution_count": 9,
   "metadata": {},
   "outputs": [],
   "source": [
    "def binary_search(lst, el):\n",
    "      low, high = 0, len(lst) - 1\n",
    "\n",
    "      while low <= high:\n",
    "          mid = int((high + low) / 2)\n",
    "          guess = lst[mid]\n",
    "          print(guess)\n",
    "          if guess == el:\n",
    "              return f'Found at index #{mid}'\n",
    "          if guess > el:\n",
    "              high = mid - 1\n",
    "          else:\n",
    "              low = mid + 1\n",
    "\n",
    "      return None"
   ]
  },
  {
   "cell_type": "markdown",
   "metadata": {},
   "source": [
    " |Binary Search| Length of Input | # of Operations\n",
    "    :--- | --- | ---\n",
    "    |`binary_search(['a'], 'a')` | 1 | 😴 |\n",
    "    |`binary_search(['a', 'b'], 'b')` | 2 | 🤔 |\n",
    "    |`binary_search(['a', 'b', 'c', 'd'], 'c')` | 4 | 🤔|\n",
    "    |`binary_search(['a', 'b', 'c', 'd', 'e', 'f', 'g', 'h'], 'g')` | 8 |  🧐 |\n",
    "    |`binary_search(['a', 'b', 'c', 'd', 'e', 'f', 'g', 'h', 'i', 'j', 'k', 'l', 'm', 'n', 'o', 'p'], 'b')` | 16 |  😕 |\n",
    "    |`binary_search(['a', 'b', 'c', 'd', 'e', 'f', 'g', 'h', 'i', 'j', 'k', 'l', 'm', 'n', 'o', 'p', 'q', 'r', 's', 't', 'u', 'v', 'w', 'x', 'y', 'z','za', 'zb', 'zc', 'zd', 'ze', 'zf'], 'zf')` | 32 |  🤯 |"
   ]
  },
  {
   "cell_type": "markdown",
   "metadata": {},
   "source": [
    "## 4. Nested Loop"
   ]
  },
  {
   "cell_type": "code",
   "execution_count": 44,
   "metadata": {},
   "outputs": [],
   "source": [
    " def nested_loop(lst):\n",
    "    for first in lst:\n",
    "        for second in lst:\n",
    "            print([first, second])"
   ]
  },
  {
   "cell_type": "markdown",
   "metadata": {},
   "source": [
    " |Nested Loop| Length of Input | # of Operations\n",
    "    :--- | --- | ---\n",
    "    |`nested_loop(['a'])` | 1 | 😴 |\n",
    "    |`nested_loop(['a', 'b'])` | 2 | 🤔 |\n",
    "    |`nested_loop(['a', 'b', 'c'])` | 3 | 🤔|\n",
    "    |`nested_loop(['a', 'b', 'c', 'd'])` | 4 |  🧐 |\n",
    "    |`nested_loop(['a', 'b', 'c', 'd', 'e'])` | 5 |  🤯 |"
   ]
  }
 ],
 "metadata": {
  "kernelspec": {
   "display_name": "Python 3",
   "language": "python",
   "name": "python3"
  },
  "language_info": {
   "codemirror_mode": {
    "name": "ipython",
    "version": 3
   },
   "file_extension": ".py",
   "mimetype": "text/x-python",
   "name": "python",
   "nbconvert_exporter": "python",
   "pygments_lexer": "ipython3",
   "version": "3.7.3"
  }
 },
 "nbformat": 4,
 "nbformat_minor": 2
}
